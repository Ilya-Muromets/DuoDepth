{
 "cells": [
  {
   "cell_type": "code",
   "execution_count": null,
   "metadata": {},
   "outputs": [],
   "source": [
    "import matplotlib.pyplot as plt\n",
    "import numpy as np"
   ]
  },
  {
   "cell_type": "markdown",
   "metadata": {},
   "source": [
    "# Ablation study of point cloud size"
   ]
  },
  {
   "cell_type": "code",
   "execution_count": null,
   "metadata": {},
   "outputs": [],
   "source": [
    "x = np.load(\"test_results/num_points1.npy\")\n",
    "y = np.vstack([np.array(row) for row in x[9:17]])\n",
    "size = x[0:8]"
   ]
  },
  {
   "cell_type": "code",
   "execution_count": null,
   "metadata": {},
   "outputs": [],
   "source": [
    "extra = np.load(\"test_results/num_points2.npy\")\n",
    "y = np.vstack((y, extra))\n",
    "size = np.append(size, 5120)"
   ]
  },
  {
   "cell_type": "code",
   "execution_count": null,
   "metadata": {},
   "outputs": [],
   "source": [
    "y_flat = np.ndarray.flatten(y)"
   ]
  },
  {
   "cell_type": "code",
   "execution_count": null,
   "metadata": {},
   "outputs": [],
   "source": [
    "size_flat = np.repeat(size,50)"
   ]
  },
  {
   "cell_type": "code",
   "execution_count": null,
   "metadata": {},
   "outputs": [],
   "source": [
    "import matplotlib\n",
    "from matplotlib import pyplot as plt\n",
    "fig1, ax1 = plt.subplots()\n",
    "fig1.set_figheight(13)\n",
    "fig1.set_figwidth(13)\n",
    "ax1.scatter(size_flat, y_flat, s=130, alpha=0.17)\n",
    "\n",
    "ax1.errorbar(size, np.mean(y, axis=1), np.std(y, axis=1), marker='o', c=(1,0,0), capsize=20)\n",
    "ax1.legend([\"Individual Trial Accuracy\", \"Mean and STD\"],loc=7, prop={'size': 20})\n",
    "# ax1.plot(size, np.median(y, axis=1), 'r')\n",
    "# ax1.plot(size, np.mean(y, axis=1), 'g')\n",
    "ax1.set_xlabel(\"Number of Points\",  fontsize=23)\n",
    "ax1.set_ylabel(\"Overall Accuracy\", fontsize=23)\n",
    "ax1.tick_params(labelsize=20)\n",
    "\n",
    "ax1.set_xscale('log')\n",
    "ax1.set_xticks([20, 40, 80,160,320,640,1280,2560,5120])\n",
    "ax1.get_xaxis().set_major_formatter(matplotlib.ticker.ScalarFormatter())"
   ]
  },
  {
   "cell_type": "code",
   "execution_count": null,
   "metadata": {},
   "outputs": [],
   "source": [
    "np.mean(x,axis=1)"
   ]
  },
  {
   "cell_type": "code",
   "execution_count": null,
   "metadata": {},
   "outputs": [],
   "source": [
    "import open3d as od\n",
    "import numpy as np\n",
    "import scipy.signal"
   ]
  },
  {
   "cell_type": "markdown",
   "metadata": {},
   "source": [
    "# Downsampling/fusng visualization"
   ]
  },
  {
   "cell_type": "code",
   "execution_count": null,
   "metadata": {},
   "outputs": [],
   "source": [
    "num = 110"
   ]
  },
  {
   "cell_type": "code",
   "execution_count": null,
   "metadata": {},
   "outputs": [],
   "source": [
    "def croppedValues(arr):\n",
    "        crop = []\n",
    "        arr_min = np.min(arr[:,2])\n",
    "        hist = np.histogram(arr[:,2], 50, (arr_min,arr_min+0.5))\n",
    "        print(hist)\n",
    "        peaks = scipy.signal.find_peaks(hist[0], distance=5)\n",
    "\n",
    "\n",
    "        if len(peaks[0]) >= 2: # two peaks, cut face/body, isolate hand\n",
    "            peak1 = peaks[0][0]\n",
    "            peak2 = peaks[0][1]\n",
    "            min_z = min(hist[1][peak1+3], hist[1][peak2-3])\n",
    "            print(min_z)\n",
    "            print(\"case 1\")\n",
    "\n",
    "        elif len(peaks[0]) == 1: # one peak, isolate hand\n",
    "            peak = peaks[0][0]\n",
    "            min_z = hist[1][peak+3]\n",
    "            print(min_z)\n",
    "            print(\"case 2\")\n",
    "\n",
    "\n",
    "        else: # no peaks, um, try something else...\n",
    "            min_z = hist[1][2] + 0.2\n",
    "            print(\"case 3\")\n",
    "\n",
    "        for i, entry in enumerate(arr):\n",
    "            if entry[2] <= (min_z):\n",
    "                crop.append(i)\n",
    "\n",
    "        if len(crop) < 320: # we accidentally cropped the whole thing\n",
    "            min_z = min(arr[:,2]) + 0.15\n",
    "            print(\"fuck\")\n",
    "\n",
    "            for i, entry in enumerate(arr):\n",
    "                if entry[2] <= (min_z):\n",
    "                    crop.append(i)\n",
    "            if len(crop) < 320: \n",
    "                return list(range(0,len(arr.T[0])))\n",
    "        return crop"
   ]
  },
  {
   "cell_type": "code",
   "execution_count": null,
   "metadata": {},
   "outputs": [],
   "source": [
    "x = np.load(\"test/four/fourfinger1/npys/0right.npy\")\n",
    "# x[0] = -x[0]\n",
    "x = x.T\n",
    "x = x[croppedValues(x)]\n",
    "pcd = od.PointCloud()\n",
    "pcd.points = od.Vector3dVector(x)\n",
    "\n",
    "# mesh_frame = od.create_mesh_coordinate_frame(size = 0.5, origin = [0,0,0])\n",
    "od.draw_geometries([pcd])"
   ]
  },
  {
   "cell_type": "code",
   "execution_count": null,
   "metadata": {},
   "outputs": [],
   "source": [
    "tran = np.load(\"base_transform_new.npy\")\n",
    "for row in tran:\n",
    "    out = \"\"\n",
    "    for el in row:\n",
    "        out = out + str(el) + \" \"\n",
    "    out = out[:-1]\n",
    "    print(out)\n"
   ]
  },
  {
   "cell_type": "code",
   "execution_count": null,
   "metadata": {},
   "outputs": [],
   "source": [
    "newest_tran = np.asarray([[-0.010311, -0.743751, -0.668511, 0.411904],[0.739154, 0.444590, -0.505998, 0.291180],[0.673578, -0.499305, 0.545095, 0.255718],[0.000000, 0.000000, 0.000000, 1.000000]])\n",
    "np.save(\"base_transform_newest\", newest_tran)"
   ]
  },
  {
   "cell_type": "code",
   "execution_count": null,
   "metadata": {},
   "outputs": [],
   "source": [
    "x = np.load(\"train/ell/ell2/npys/100left.npy\")\n",
    "pcd = od.PointCloud()\n",
    "pcd.points = od.Vector3dVector(x.T)\n",
    "\n",
    "y = np.load(\"train/ell/ell2/npys/100right.npy\")\n",
    "pcd2 = od.PointCloud()\n",
    "pcd2.points = od.Vector3dVector(y.T)\n",
    "pcd2.transform(newest_tran)\n",
    "\n",
    "od.draw_geometries([pcd2,pcd])"
   ]
  },
  {
   "cell_type": "code",
   "execution_count": null,
   "metadata": {},
   "outputs": [],
   "source": [
    "x = np.load(\"train/bird/bird2/npys/\" + str(num) + \"leftreduced.npy\")\n",
    "pcd = od.PointCloud()\n",
    "pcd.points = od.Vector3dVector(x.T)\n",
    "od.draw_geometries([pcd])"
   ]
  },
  {
   "cell_type": "code",
   "execution_count": null,
   "metadata": {},
   "outputs": [],
   "source": [
    "x = np.load(\"train/two/twofinger4/npys/\" + str(num) + \"rightreduced.npy\")\n",
    "pcd = od.PointCloud()\n",
    "pcd.points = od.Vector3dVector(x.T)\n",
    "od.draw_geometries([pcd])"
   ]
  },
  {
   "cell_type": "code",
   "execution_count": null,
   "metadata": {},
   "outputs": [],
   "source": [
    "x = np.load(\"train/zero/open4/npys/\" + str(num) + \"fused.npy\")\n",
    "pcd = od.PointCloud()\n",
    "pcd.points = od.Vector3dVector(x.T)\n",
    "# pcd = od.voxel_down_sample(pcd, voxel_size = 0.0160)\n",
    "# print(len(pcd.points))\n",
    "od.draw_geometries([pcd])"
   ]
  },
  {
   "cell_type": "markdown",
   "metadata": {},
   "source": [
    "# Network Ablation"
   ]
  },
  {
   "cell_type": "code",
   "execution_count": null,
   "metadata": {},
   "outputs": [],
   "source": [
    "ab = np.load(\"test_results/ablation.npy\")"
   ]
  },
  {
   "cell_type": "code",
   "execution_count": null,
   "metadata": {},
   "outputs": [],
   "source": [
    "print(\"Max Achieved in 300 iterations:\")\n",
    "print(\"Original Network: \" + str(np.max(ab[0])))\n",
    "print(\"Reduced Calorie Network: \" + str(np.max(ab[1])))\n",
    "print(\"Dropout Network: \" + str(np.max(ab[2])))\n",
    "print(\"Selu Network: \" + str(np.max(ab[3])))\n",
    "print(\"Reduced Network + Dropout: \" + str(np.max(ab[4])))\n"
   ]
  },
  {
   "cell_type": "code",
   "execution_count": null,
   "metadata": {},
   "outputs": [],
   "source": [
    "print(\"Mean Achieved in 300 iterations:\")\n",
    "print(\"Original Network: \" + str(np.mean(ab[0])))\n",
    "print(\"Reduced Calorie Network: \" + str(np.mean(ab[1])))\n",
    "print(\"Dropout Network: \" + str(np.mean(ab[2])))\n",
    "print(\"Selu Network: \" + str(np.mean(ab[3])))\n",
    "print(\"Reduced Network + Dropout: \" + str(np.mean(ab[4])))\n"
   ]
  },
  {
   "cell_type": "code",
   "execution_count": null,
   "metadata": {},
   "outputs": [],
   "source": [
    "print(\"STD Achieved in 300 iterations:\")\n",
    "print(\"Original Network: \" + str(np.std(ab[0])))\n",
    "print(\"Reduced Calorie Network: \" + str(np.std(ab[1])))\n",
    "print(\"Dropout Network: \" + str(np.std(ab[2])))\n",
    "print(\"Selu Network: \" + str(np.std(ab[3])))\n",
    "print(\"Reduced Network + Dropout: \" + str(np.std(ab[4])))\n"
   ]
  },
  {
   "cell_type": "code",
   "execution_count": null,
   "metadata": {},
   "outputs": [],
   "source": [
    "x = np.repeat([0,1,2,3,4],300)"
   ]
  },
  {
   "cell_type": "code",
   "execution_count": null,
   "metadata": {},
   "outputs": [],
   "source": [
    "fig1, ax1 = plt.subplots()\n",
    "fig1.set_figheight(13)\n",
    "fig1.set_figwidth(13)\n",
    "ax1.scatter(x, ab.flatten(), s=130, alpha=0.17)\n",
    "ax1.scatter([0,1,2,3,4], np.mean(ab, axis=1),s=200)\n",
    "# ax1.legend([\"Individual Trial Accuracy\", \"Mean and STD\"],loc=7, prop={'size': 20})\n",
    "# ax1.plot(size, np.median(y, axis=1), 'r')\n",
    "# ax1.plot(size, np.mean(y, axis=1), 'g')\n",
    "ax1.set_xlabel(\"System Type\",  fontsize=23)\n",
    "ax1.set_ylabel(\"Overall Accuracy\", fontsize=23)\n",
    "ax1.tick_params(labelsize=20)\n"
   ]
  },
  {
   "cell_type": "markdown",
   "metadata": {},
   "source": [
    "# Augmentation"
   ]
  },
  {
   "cell_type": "code",
   "execution_count": null,
   "metadata": {},
   "outputs": [],
   "source": [
    "ab = np.load(\"test_results/augmentation.npy\")\n",
    "x = np.repeat([0,0.01,0.05,0.1,0.25],100)￼\n",
    "\n",
    "ab_fine = np.load(\"test_results/augmentation_fine.npy\")\n",
    "x_fine = np.repeat([0,0.01,0.02,0.03,0.04,0.05],25)"
   ]
  },
  {
   "cell_type": "code",
   "execution_count": null,
   "metadata": {},
   "outputs": [],
   "source": [
    "fig1, ax1 = plt.subplots()\n",
    "fig1.set_figheight(13)\n",
    "fig1.set_figwidth(13)\n",
    "ax1.scatter(x, ab.flatten(), s=130, alpha=0.17)\n",
    "ax1.scatter([0,0.01,0.05,0.1,0.25], np.mean(ab, axis=1),s=200)\n",
    "\n",
    "ax1.scatter(x_fine, ab_fine.flatten(), s=130, alpha=0.17, c='b')\n",
    "ax1.scatter([0,0.01,0.02,0.03,0.04,0.05], np.mean(ab_fine, axis=1),s=200,c='r')\n",
    "ax1.legend([\"Individual Trial Accuracy\", \"Mean\"],loc=7, prop={'size': 20})\n",
    "# ax1.plot(size, np.median(y, axis=1), 'r')\n",
    "# ax1.plot(size, np.mean(y, axis=1), 'g')\n",
    "ax1.set_xlabel(\"Augmentation Factor\",  fontsize=23)\n",
    "ax1.set_ylabel(\"Overall Accuracy\", fontsize=23)\n",
    "ax1.tick_params(labelsize=20)\n"
   ]
  },
  {
   "cell_type": "markdown",
   "metadata": {},
   "source": [
    "# Results"
   ]
  },
  {
   "cell_type": "code",
   "execution_count": null,
   "metadata": {},
   "outputs": [],
   "source": [
    "acc = np.load(\"test_results/acc.npy\")\n",
    "mat = np.load(\"test_results/mat.npy\")"
   ]
  },
  {
   "cell_type": "code",
   "execution_count": null,
   "metadata": {},
   "outputs": [],
   "source": [
    "import numpy\n",
    "numpy.set_printoptions(threshold=numpy.nan)\n",
    "# Class Accuracies\n",
    "print(\"Class ACC\")\n",
    "print(np.round(np.mean(mat/100, axis=2),4))\n",
    "# Class STD\n",
    "print(\"Class STD\")\n",
    "print(np.round(np.std(mat/100, axis=2),4))\n",
    "# Overall Accuracies\n",
    "print(\"Overall ACC\")\n",
    "print(np.round(np.mean(acc,axis=1),4))\n",
    "# Overall STD\n",
    "print(\"Overall STD\")\n",
    "print(np.round(np.std(acc,axis=1),4))"
   ]
  },
  {
   "cell_type": "code",
   "execution_count": null,
   "metadata": {},
   "outputs": [],
   "source": [
    "amat = 100 - mat"
   ]
  },
  {
   "cell_type": "code",
   "execution_count": null,
   "metadata": {},
   "outputs": [],
   "source": [
    "a = np.array(np.round(np.mean(acc,axis=1),4),dtype=np.str)\n",
    "slash = np.array([[\"/\" for i in range(1)] for i in range(9)],dtype=np.str)\n",
    "b = np.array(np.round(np.std(acc,axis=1),4),dtype=np.str)\n",
    "\n",
    "res = np.asarray(np.core.defchararray.add(np.core.defchararray.add(a,slash),b),dtype=str)\n",
    "print(res)"
   ]
  },
  {
   "cell_type": "code",
   "execution_count": null,
   "metadata": {},
   "outputs": [],
   "source": [
    "print(\"Class Energy\")\n",
    "for row in amat:\n",
    "    x = row.flatten()/100\n",
    "    print(np.round(np.sum(x**2),3))\n"
   ]
  },
  {
   "cell_type": "markdown",
   "metadata": {},
   "source": [
    "# Confusion Matrix"
   ]
  },
  {
   "cell_type": "code",
   "execution_count": null,
   "metadata": {},
   "outputs": [],
   "source": [
    "conf = np.load(\"test_results/confusion.npy\")"
   ]
  },
  {
   "cell_type": "code",
   "execution_count": null,
   "metadata": {},
   "outputs": [],
   "source": [
    "plt.mat(conf[0])"
   ]
  },
  {
   "cell_type": "code",
   "execution_count": null,
   "metadata": {},
   "outputs": [],
   "source": [
    "import seaborn as sn\n",
    "import pandas as pd\n",
    "import matplotlib.pyplot as plt\n",
    "\n",
    "df_cm = pd.DataFrame(np.round(conf[0]/100, 1), index = [\"OPEN\", \"T.UP\", \"T.DOWN\", \"TWO\", \"BIRD\", \"FRAME\"],\n",
    "                  columns = [\"OPEN\", \"T.UP\", \"T.DOWN\", \"TWO\", \"BIRD\", \"FRAME\"])\n",
    "plt.figure(figsize = (10,10))\n",
    "sn.heatmap(df_cm, annot=True)"
   ]
  },
  {
   "cell_type": "code",
   "execution_count": null,
   "metadata": {},
   "outputs": [],
   "source": [
    "conf[0]"
   ]
  },
  {
   "cell_type": "code",
   "execution_count": null,
   "metadata": {},
   "outputs": [],
   "source": []
  }
 ],
 "metadata": {
  "kernelspec": {
   "display_name": "Python 3",
   "language": "python",
   "name": "python3"
  },
  "language_info": {
   "codemirror_mode": {
    "name": "ipython",
    "version": 3
   },
   "file_extension": ".py",
   "mimetype": "text/x-python",
   "name": "python",
   "nbconvert_exporter": "python",
   "pygments_lexer": "ipython3",
   "version": "3.7.3"
  }
 },
 "nbformat": 4,
 "nbformat_minor": 2
}
